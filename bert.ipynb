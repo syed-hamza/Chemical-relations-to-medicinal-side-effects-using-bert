{
 "cells": [
  {
   "cell_type": "code",
   "execution_count": 10,
   "metadata": {},
   "outputs": [],
   "source": [
    "from keybert import KeyBERT\n",
    "import pandas as pd\n",
    "import json\n",
    "def load_descriptions(file_path):\n",
    "    with open(file_path, 'r+') as file:\n",
    "        descriptions = json.load(file)\n",
    "    return descriptions\n",
    "data = load_descriptions(\"desc.json\")\n",
    "ins = data[list(data.keys())[0]]\n",
    "ins2 = data[list(data.keys())[0]]"
   ]
  },
  {
   "cell_type": "code",
   "execution_count": 11,
   "metadata": {},
   "outputs": [
    {
     "data": {
      "text/plain": [
       "'Each film-coated tablet contains amoxicillin trihydrate equivalent to 500 mg amoxicillin and potassium clavulanate equivalent to 125 mg of clavulanic acid.'"
      ]
     },
     "execution_count": 11,
     "metadata": {},
     "output_type": "execute_result"
    }
   ],
   "source": [
    "ins"
   ]
  },
  {
   "cell_type": "code",
   "execution_count": 12,
   "metadata": {},
   "outputs": [],
   "source": [
    "\n",
    "kw_model = KeyBERT()\n",
    "keywords = kw_model.extract_keywords(ins)"
   ]
  },
  {
   "cell_type": "code",
   "execution_count": 16,
   "metadata": {},
   "outputs": [
    {
     "name": "stdout",
     "output_type": "stream",
     "text": [
      "Each film-coated tablet contains amoxicillin trihydrate equivalent to 500 mg amoxicillin and potassium clavulanate equivalent to 125 mg of clavulanic acid.\n"
     ]
    },
    {
     "data": {
      "text/plain": [
       "[('amoxicillin', 0.5849),\n",
       " ('clavulanic', 0.4737),\n",
       " ('clavulanate', 0.4112),\n",
       " ('coated', 0.3275),\n",
       " ('tablet', 0.2648)]"
      ]
     },
     "execution_count": 16,
     "metadata": {},
     "output_type": "execute_result"
    }
   ],
   "source": [
    "print(ins2)\n",
    "kw_model.extract_keywords(ins2, keyphrase_ngram_range=(1,1), stop_words=None)"
   ]
  }
 ],
 "metadata": {
  "kernelspec": {
   "display_name": "Python 3",
   "language": "python",
   "name": "python3"
  },
  "language_info": {
   "codemirror_mode": {
    "name": "ipython",
    "version": 3
   },
   "file_extension": ".py",
   "mimetype": "text/x-python",
   "name": "python",
   "nbconvert_exporter": "python",
   "pygments_lexer": "ipython3",
   "version": "3.11.0"
  }
 },
 "nbformat": 4,
 "nbformat_minor": 2
}
