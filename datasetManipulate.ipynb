{
 "cells": [
  {
   "cell_type": "code",
   "execution_count": 1,
   "metadata": {},
   "outputs": [
    {
     "name": "stderr",
     "output_type": "stream",
     "text": [
      "C:\\Users\\Syed Abid\\AppData\\Local\\Temp\\ipykernel_19744\\4185588236.py:4: DtypeWarning: Columns (42,43,44,45,46,47,48) have mixed types. Specify dtype option on import or set low_memory=False.\n",
      "  df = pd.read_csv(input_file)\n"
     ]
    },
    {
     "name": "stdout",
     "output_type": "stream",
     "text": [
      "First 10000 rows saved to compressed_dataset.csv\n"
     ]
    }
   ],
   "source": [
    "import pandas as pd\n",
    "\n",
    "def read_csv(input_file):\n",
    "    df = pd.read_csv(input_file)\n",
    "    return df\n",
    "\n",
    "def write_csv(output_file, data):\n",
    "    data.to_csv(output_file, index=False)\n",
    "\n",
    "input_file = 'medicine_dataset.csv' \n",
    "output_file = 'compressed_dataset.csv'\n",
    "nrows = 10000\n",
    "\n",
    "input_data = read_csv(input_file)\n",
    "output_data = input_data.head(nrows)\n",
    "\n",
    "write_csv(output_file, output_data)\n",
    "print(\"First\", nrows, \"rows saved to\", output_file)\n"
   ]
  },
  {
   "cell_type": "code",
   "execution_count": 2,
   "metadata": {},
   "outputs": [],
   "source": [
    "import json\n",
    "\n",
    "def load_descriptions(file_path):\n",
    "    with open(file_path, 'r+') as file:\n",
    "        descriptions = json.load(file)\n",
    "    return descriptions\n",
    "\n",
    "desc_path = \"desc.json\"\n",
    "descriptions = load_descriptions(desc_path)\n",
    "\n",
    "dataset = pd.read_csv(output_file)\n",
    "dataset[\"descriptions\"] = \"\"  # Create an empty column for descriptions\n",
    "\n",
    "for i in range(len(dataset)):\n",
    "    name = dataset.loc[i, \"name\"]\n",
    "    if name in descriptions.keys():\n",
    "        dataset.loc[i, \"descriptions\"] = descriptions[name]\n",
    "\n",
    "# Filter out rows where descriptions are not found\n",
    "dataset = dataset[dataset[\"descriptions\"] != \"\"]\n",
    "\n",
    "# Save the dataset to a new CSV file\n",
    "dataset.to_csv(f\"desc_data_{nrows}.csv\", index=False)\n"
   ]
  }
 ],
 "metadata": {
  "kernelspec": {
   "display_name": "Python 3",
   "language": "python",
   "name": "python3"
  },
  "language_info": {
   "codemirror_mode": {
    "name": "ipython",
    "version": 3
   },
   "file_extension": ".py",
   "mimetype": "text/x-python",
   "name": "python",
   "nbconvert_exporter": "python",
   "pygments_lexer": "ipython3",
   "version": "3.11.0"
  }
 },
 "nbformat": 4,
 "nbformat_minor": 2
}
